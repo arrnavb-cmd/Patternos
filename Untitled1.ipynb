{
 "cells": [
  {
   "cell_type": "code",
   "execution_count": 3,
   "id": "bf1f7b65-5366-4d80-b9c0-c846e5eaf679",
   "metadata": {},
   "outputs": [
    {
     "name": "stdout",
     "output_type": "stream",
     "text": [
      "usage: conda init [-h] [--all] [--user] [--no-user] [--system] [--reverse]\n",
      "                  [--json] [--console CONSOLE] [-v] [-q] [-d]\n",
      "                  [SHELLS ...]\n",
      "conda init: error: argument SHELLS: invalid choice: 'patternos' (choose from 'bash', 'fish', 'tcsh', 'xonsh', 'zsh', 'powershell')\n",
      "\n",
      "Note: you may need to restart the kernel to use updated packages.\n"
     ]
    }
   ],
   "source": [
    "conda init patternos"
   ]
  },
  {
   "cell_type": "code",
   "execution_count": 4,
   "id": "280f3d7b-1d1f-451e-b8ee-1a3f7f2fde31",
   "metadata": {},
   "outputs": [
    {
     "name": "stdout",
     "output_type": "stream",
     "text": [
      "\n",
      "CondaError: Run 'conda init' before 'conda activate'\n",
      "\n",
      "\n",
      "Note: you may need to restart the kernel to use updated packages.\n"
     ]
    }
   ],
   "source": [
    "conda activate patternos"
   ]
  },
  {
   "cell_type": "code",
   "execution_count": null,
   "id": "3ce69f0f-7a10-4b6c-9fe2-ab9cc1cb78c8",
   "metadata": {},
   "outputs": [],
   "source": []
  }
 ],
 "metadata": {
  "kernelspec": {
   "display_name": "Python [conda env:PatternOS] *",
   "language": "python",
   "name": "conda-env-PatternOS-py"
  },
  "language_info": {
   "codemirror_mode": {
    "name": "ipython",
    "version": 3
   },
   "file_extension": ".py",
   "mimetype": "text/x-python",
   "name": "python",
   "nbconvert_exporter": "python",
   "pygments_lexer": "ipython3",
   "version": "3.9.23"
  },
  "panel-cell-order": [
   "58a1b100-31cc-4dc7-b906-201af2af8d42",
   "43c2dd69-672e-4b73-a677-fd2f6034e53e",
   "1101d5ea-9d6a-4324-af4b-cca271a5d2e1",
   "f76ec234-3542-4740-9a54-fc4533a2ade8"
  ]
 },
 "nbformat": 4,
 "nbformat_minor": 5
}
